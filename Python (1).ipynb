{
  "nbformat": 4,
  "nbformat_minor": 0,
  "metadata": {
    "colab": {
      "provenance": []
    },
    "kernelspec": {
      "name": "python3",
      "display_name": "Python 3"
    },
    "language_info": {
      "name": "python"
    }
  },
  "cells": [
    {
      "cell_type": "markdown",
      "source": [
        "# ***# PYTHON BASICS***"
      ],
      "metadata": {
        "id": "d7h5zjDwxWUR"
      }
    },
    {
      "cell_type": "markdown",
      "source": [
        "**01- What is Python, and why is it popular?**"
      ],
      "metadata": {
        "id": "vO0HcYviWo7M"
      }
    },
    {
      "cell_type": "markdown",
      "source": [
        "\n",
        " Python is a high-level, interpreted programming language known for its simplicity and readability. It was created by Guido van Rossum and first released in 1991. Python is widely used for web development, data science, artificial intelligence, automation, and more.\n",
        "\n",
        "Why is Python Popular?\n",
        "\n",
        "-Easy to Learn & Use\n",
        "     Simple syntax like plain English.\n",
        "     \n",
        "     Beginner-friendly.\n",
        "\n",
        "-Versatile & Powerful\n",
        "\n",
        "     Used in web development, data science, AI, automation, and more.\n",
        "\n",
        "     Works on Windows, macOS, Linux without modification.\n",
        "\n",
        "-Large Community & Libraries\n",
        "\n",
        "     Huge support from developers worldwide.\n",
        "\n",
        "     Many built-in and third-party libraries (NumPy, Pandas, TensorFlow, etc.).\n",
        "\n",
        ". Readable & Maintainable Code\n",
        "     Clean and readable syntax improves collaboration.\n",
        "\n",
        ". Automation & Scripting\n",
        "     Great for writing scripts and automating tasks.\n",
        "\n",
        ". Strong in Data Science & AI\n",
        "     Popular in machine learning, AI, and data analysis.\n",
        "\n",
        ". Free & Open-Source\n",
        "     Available for everyone at no cost."
      ],
      "metadata": {
        "id": "TLWS1sBwxcnI"
      }
    },
    {
      "cell_type": "markdown",
      "source": [
        "**02- What is an interpreter in Python?**"
      ],
      "metadata": {
        "id": "_eCHxbWgzv1x"
      }
    },
    {
      "cell_type": "markdown",
      "source": [
        "\n",
        "   -A Python interpreter is a program that executes Python code line by line without compiling it first. It translates the code into machine-readable instructions and runs it immediately.\n",
        "\n",
        "Why Use an Interpreter?\n",
        "\n",
        "     . No need for compilation\n",
        "\n",
        "     . Easy debugging\n",
        "\n",
        "     . Cross-platform compatibility\n",
        "\n",
        "Popular Python Interpreters:\n",
        "\n",
        "     . CPython (default)\n",
        "\n",
        "     . PyPy (faster with JIT)\n",
        "\n",
        "     . Jython (for Java)\n",
        "\n",
        "     . IronPython (for .NET)"
      ],
      "metadata": {
        "id": "B-rpSYQOz0ig"
      }
    },
    {
      "cell_type": "markdown",
      "source": [
        "**03- What are pre-defined keywords in Python?**"
      ],
      "metadata": {
        "id": "AbucAdHKRvNj"
      }
    },
    {
      "cell_type": "markdown",
      "source": [
        "   Keywords in Python are predefined reserved words with special meanings so\n",
        "   the interpreter can understand them. They perform specific tasks in Python programming and are a part of its syntax.\n",
        "\n",
        "   Examples of Keywords:\n",
        "\n",
        "     -Control Statements: if, else, elif, for, while, break, continue, pass\n",
        "\n",
        "     -Function & Class Definitions: def, class, return, lambda, yield\n",
        "\n",
        "     -Boolean Values & None: True, False, None\n",
        "\n",
        "     -Exception Handling: try, except, finally, raise, assert\n",
        "\n",
        "     -Operators & Comparisons: and, or, not, in, is\n",
        "\n",
        "     -Variable Scope & Imports: global, nonlocal, import, from, as\n",
        "\n",
        "      Python keywords are case-sensitive and must be used correctly."
      ],
      "metadata": {
        "id": "i2yMnz730lmG"
      }
    },
    {
      "cell_type": "markdown",
      "source": [
        "04- Can keywords be used as variable name?"
      ],
      "metadata": {
        "id": "9sxB0onjSXSD"
      }
    },
    {
      "cell_type": "markdown",
      "source": [
        "\n",
        "  No, keywords cannot be used as variable names because they have a special purpose in Python. If you try to use a keyword as a variable, Python will show an error.\n",
        "\n",
        "  Correct Way:\n",
        "\n",
        "       def_value = 5  # its not a keyword\n",
        "\n",
        "       print(def_value)\n",
        "\n",
        "\n",
        "  Wrong Way:\n",
        "\n",
        "       def = 5   #\"def\" is a keyword #This will throgh error\n",
        "\n",
        "       print(def)"
      ],
      "metadata": {
        "id": "z9R9uAi73L9V"
      }
    },
    {
      "cell_type": "markdown",
      "source": [
        "**05- What is mutability in Python?**"
      ],
      "metadata": {
        "id": "l7XG0-sSSutM"
      }
    },
    {
      "cell_type": "markdown",
      "source": [
        "  Mutability refers to whether an object can be changed after creation in Python.\n",
        "\n",
        "  Two Types of Objects:\n",
        "\n",
        "     -Mutable (Can change) → Lists, Dictionaries, Sets\n",
        "\n",
        "     -Immutable (Cannot change) → Strings, Tuples, Numbers\n",
        "\n",
        "  Mutable Objects (Can be changed)\n",
        "\n",
        "     Lists → list1 = [1, 2, 3] (Elements can be modified)\n",
        "\n",
        "     Dictionaries → dict1 = {\"a\": 1, \"b\": 2}\n",
        "\n",
        "     Sets → set1 = {1, 2, 3}"
      ],
      "metadata": {
        "id": "cU34NRKh5Ibc"
      }
    },
    {
      "cell_type": "markdown",
      "source": [
        "**06- Why are lists mutable , but tuples are immutable?**"
      ],
      "metadata": {
        "id": "P0QPq9XOS8Hj"
      }
    },
    {
      "cell_type": "markdown",
      "source": [
        "The difference between lists and tuples in Pyton is how they\n",
        "     store data in memory.\n",
        "\n",
        "  -Lists Are Mutable (Can Be Changed)\n",
        "\n",
        "     -Stored as dynamic arrays in memory.\n",
        "\n",
        "     -Allow modification, addition, and deletion of elements.\n",
        "\n",
        "     -More flexible but slightly slower due to memory overhead.\n",
        "\n",
        "     list = [1, 2, 3]\n",
        "\n",
        "     list[1] = 200\n",
        "\n",
        "     print(list)  # Output: [1, 200, 3]\n",
        "\n",
        "  -Tuples (Immutable - Cannot Change)  \n",
        "\n",
        "     Tuples are fixed once created; you cannot modify their elements.\n",
        "\n",
        "     They take less memory and are faster than lists.\n",
        "\n",
        "     Useful for data that should not change, like database records.\n",
        "\n",
        "     tuple = (1, 2, 3)\n",
        "     tuple[1] = 200  #this will throgh error--- 'tuple' object does not support item assignment"
      ],
      "metadata": {
        "id": "6KqN94Dz5R4j"
      }
    },
    {
      "cell_type": "markdown",
      "source": [
        "**07- What is the difference between “==” and “is” operators in Python?**"
      ],
      "metadata": {
        "id": "PMXO4481Tozo"
      }
    },
    {
      "cell_type": "markdown",
      "source": [
        "\n",
        "Difference Between \"==\" and \"is\" in Python\n",
        "     Both == and is are comparison operators, but they are used for different purposes.\n",
        "\n",
        "     \"==\" (Equality Operator)\n",
        "\n",
        "      Checks if two values are equal.\n",
        "      Does not check if they are stored in the same memory location.\n",
        "\n",
        "      Example:\n",
        "\n",
        "      a = [1, 2, 3]\n",
        "      b = [1, 2, 3]\n",
        "      print(a == b)  #True\n",
        "\n",
        "      \"is\" (Identity Operator)\n",
        "       \n",
        "       Checks if two variables point to the same memory location.\n",
        "\n",
        "      Example:\n",
        "\n",
        "      a = [1, 2, 3]\n",
        "      b = [1, 2, 3]\n",
        "      print(a is b)  #False"
      ],
      "metadata": {
        "id": "fvpvFXfg88Cx"
      }
    },
    {
      "cell_type": "markdown",
      "source": [
        "**08- What are logical operators in Python?**"
      ],
      "metadata": {
        "id": "w_Jxq-rvDWbh"
      }
    },
    {
      "cell_type": "markdown",
      "source": [
        "\n",
        "\n",
        "  -Logical Operators in Python\n",
        "     Logical operators are used to combine multiple conditions and return True or False based on their evaluation.\n",
        "\n",
        "   -and (Logical AND)\n",
        "\n",
        "       Returns True if both conditions are True.\n",
        "       Returns False if any condition is False.\n",
        "\n",
        "   Example:   \n",
        "\n",
        "     a = 10\n",
        "\n",
        "     b = 20\n",
        "\n",
        "     print(a > 5 and b > 15)\n",
        "\n",
        "  -or (Logical OR)\n",
        "      \n",
        "     Returns True if at least one condition is True.\n",
        "\n",
        "     Returns False if both conditions are False.\n",
        "\n",
        "Example:\n",
        "\n",
        "     a = 10\n",
        "\n",
        "     b = 5\n",
        "\n",
        "     print(a > 15 or b > 2)\n",
        "\n",
        "  -not (Logical NOT)\n",
        "    \n",
        "     Reverses the result → True becomes False, False becomes True.\n",
        "\n",
        "Example:\n",
        "\n",
        "     a = True\n",
        "     print(not a)"
      ],
      "metadata": {
        "id": "PaoZp0Gj_yAo"
      }
    },
    {
      "cell_type": "markdown",
      "source": [
        "**09- What is type casting in Python?**"
      ],
      "metadata": {
        "id": "Xr5bhk0QIhxs"
      }
    },
    {
      "cell_type": "markdown",
      "source": [
        "Type casting in Python is the process of changing one data type into another.\n",
        "\n",
        " Types of Type Casting:\n",
        "\n",
        "  Implicit Type Casting (Automatic)\n",
        "\n",
        "     Python automatically converts one data type to another without loss of data.\n",
        "   \n",
        "     Example:\n",
        "\n",
        "     x = 10  \n",
        "     y = 2.5  \n",
        "     result = x + y  \n",
        "     print(result)  \n",
        "     print(type(result))  \n",
        "\n",
        "Explicit Type Casting (Manual)\n",
        "   \n",
        "   Manually convert data types using Python functions like:\n",
        "\n",
        "     int() → Converts to integer\n",
        "\n",
        "     float() → Converts to float\n",
        "\n",
        "     str() → Converts to string\n",
        "\n",
        "     list() → Converts to list\n",
        "\n",
        "     tuple() → Converts to tuple  \n",
        "\n",
        "Example:\n",
        "     \n",
        "     a = \"100\"\n",
        "     b = int(a)  \n",
        "     print(b, type(b))         "
      ],
      "metadata": {
        "id": "uJQgYA5dDfb-"
      }
    },
    {
      "cell_type": "markdown",
      "source": [
        "**10- What is the difference between implicit and explicit type casting**"
      ],
      "metadata": {
        "id": "m46hiBOqUZPz"
      }
    },
    {
      "cell_type": "markdown",
      "source": [
        "****\n",
        "\n",
        "Difference Between Implicit and Explicit Type Casting in Python\n",
        "Type casting (type conversion) is changing one data type into another.\n",
        "Python provides two types of type casting-\n",
        "\n",
        "-Implicit Type Casting\n",
        "\n",
        "  Python automatically converts a smaller data type into a larger one to prevent data loss. This happens when you mix different types in an operation."
      ],
      "metadata": {
        "id": "KKWkrJxUH1Vu"
      }
    },
    {
      "cell_type": "code",
      "source": [
        "#Example:\n",
        "\n",
        "x = 5\n",
        "y = 2.5\n",
        "z = x + y\n",
        "print(z, type(z))"
      ],
      "metadata": {
        "colab": {
          "base_uri": "https://localhost:8080/"
        },
        "id": "upSkafnLIaMb",
        "outputId": "55ca7766-ceb0-4765-d660-8101c64e851e"
      },
      "execution_count": null,
      "outputs": [
        {
          "output_type": "stream",
          "name": "stdout",
          "text": [
            "7.5 <class 'float'>\n"
          ]
        }
      ]
    },
    {
      "cell_type": "markdown",
      "source": [
        "**Explicit Type Casting (Manual Conversion)**\n",
        "\n",
        "In explicit type casting, the programmer manually converts one type to another using functions like:\n",
        "\n",
        "     int() → Converts to integer\n",
        "\n",
        "     float() → Converts to float\n",
        "\n",
        "     str() → Converts to string\n",
        "\n",
        "     list() → Converts to list\n",
        "\n",
        "     tuple() → Converts to tuple"
      ],
      "metadata": {
        "id": "jmy1db36I2eL"
      }
    },
    {
      "cell_type": "code",
      "source": [
        "#Example:\n",
        "\n",
        "a = \"100\"\n",
        "b = int(a)\n",
        "print(b, type(b))"
      ],
      "metadata": {
        "id": "UO7YjkcyJB6u"
      },
      "execution_count": null,
      "outputs": []
    },
    {
      "cell_type": "markdown",
      "source": [
        "**11- What is the purpose of conditional statements in Python?**"
      ],
      "metadata": {
        "id": "rHrSNqqbU8RQ"
      }
    },
    {
      "cell_type": "markdown",
      "source": [
        "****\n",
        "\n",
        "  Conditional statements control the flow of a program by executing different code based on conditions. They allow Python to make decisions like \"if this happens, do that; otherwise, do something else.\n",
        "\n",
        "  Why Use Conditional Statements?\n",
        "\n",
        "     Decision Making → Runs different code based on conditions.\n",
        "\n",
        "     Control Flow → Determines which part of the code executes.\n",
        "\n",
        "     Efficient Execution → Avoids unnecessary code execution.\n",
        "     "
      ],
      "metadata": {
        "id": "fNBL0HF_Jg8V"
      }
    },
    {
      "cell_type": "markdown",
      "source": [
        "**12- How does the elif statement work?**"
      ],
      "metadata": {
        "id": "kvDYpAgKVHTj"
      }
    },
    {
      "cell_type": "markdown",
      "source": [
        "****\n",
        "\n",
        "The elif (else if) statement checks multiple conditions one by one. If the first if condition is False, Python moves to the elif conditions. If any elif condition is True, it executes that block and skips the rest. If none are True, the else block (if present) runs.\n",
        "\n",
        "How It Works:\n",
        "\n",
        "     Python first checks the if condition.\n",
        "\n",
        "     If if is False, it checks elif conditions one by one.\n",
        "\n",
        "     When it finds a True condition, it executes that block and skips the rest.\n",
        "\n",
        "     If none are True, the else block (if present) runs.\n",
        "\n",
        "     \n",
        "\n",
        "\n"
      ],
      "metadata": {
        "id": "GI21qF4oK-LN"
      }
    },
    {
      "cell_type": "code",
      "source": [
        "#Example 1: Checking Grades\n",
        "\n",
        "score = 75\n",
        "\n",
        "if score >= 90:\n",
        "    print(\"Grade: A\")\n",
        "elif score >= 80:\n",
        "    print(\"Grade: B\")\n",
        "elif score >= 70:\n",
        "    print(\"Grade: C\")\n",
        "else:\n",
        "    print(\"Grade: D\")"
      ],
      "metadata": {
        "colab": {
          "base_uri": "https://localhost:8080/"
        },
        "id": "8zvuU5PcLpAL",
        "outputId": "86d03bd1-b644-4823-ebbe-64cd21a4b9d7"
      },
      "execution_count": null,
      "outputs": [
        {
          "output_type": "stream",
          "name": "stdout",
          "text": [
            "Grade: C\n"
          ]
        }
      ]
    },
    {
      "cell_type": "markdown",
      "source": [
        "**13- What is the difference between for and while loops?**"
      ],
      "metadata": {
        "id": "uXR7QmvtVM_J"
      }
    },
    {
      "cell_type": "markdown",
      "source": [
        "****\n",
        "\n",
        "Difference Between for and while Loops in Python\n",
        "\n",
        "-for Loop\n",
        "\n",
        "     Used when the number of iterations is known.\n",
        "     Iterates over a sequence (list, string, range, etc.).\n",
        "     Stops automatically when the sequence ends.\n",
        "     Best for looping through collections.\n",
        "\n"
      ],
      "metadata": {
        "id": "1aUpgLvFLylZ"
      }
    },
    {
      "cell_type": "code",
      "source": [
        "#Example:\n",
        "for i in range(1, 6):\n",
        "    print(i)"
      ],
      "metadata": {
        "colab": {
          "base_uri": "https://localhost:8080/"
        },
        "id": "78U_dt-hMnky",
        "outputId": "49c58f37-f8a8-43e0-ac5c-4ced8c45c6d0"
      },
      "execution_count": null,
      "outputs": [
        {
          "output_type": "stream",
          "name": "stdout",
          "text": [
            "1\n",
            "2\n",
            "3\n",
            "4\n",
            "5\n"
          ]
        }
      ]
    },
    {
      "cell_type": "markdown",
      "source": [
        "-while Loop\n",
        "\n",
        "     Used when the number of iterations is unknown.\n",
        "     Runs until a condition becomes False.\n",
        "     Can become infinite if the condition is never False.\n",
        "     Best for repeating tasks based on conditions.\n",
        "\n",
        "     "
      ],
      "metadata": {
        "id": "rQnbCshJMxXB"
      }
    },
    {
      "cell_type": "code",
      "source": [
        "#Example:\n",
        "i = 1\n",
        "while i <= 5:\n",
        "    print(i)\n",
        "    i += 1"
      ],
      "metadata": {
        "colab": {
          "base_uri": "https://localhost:8080/"
        },
        "id": "IWREMljvN7Tg",
        "outputId": "334fc28a-8b82-4428-81e9-6e22fead484c"
      },
      "execution_count": null,
      "outputs": [
        {
          "output_type": "stream",
          "name": "stdout",
          "text": [
            "1\n",
            "2\n",
            "3\n",
            "4\n",
            "5\n"
          ]
        }
      ]
    },
    {
      "cell_type": "markdown",
      "source": [
        "**14- Describe a scenario where a while loop is more suitable than a for loop?**"
      ],
      "metadata": {
        "id": "5jt7jh6gVSxk"
      }
    },
    {
      "cell_type": "markdown",
      "source": [
        "****\n",
        "\n",
        "Scenario Where a while Loop is More Suitable Than a for Loop\n",
        "A while loop is ideal when the number of iterations is unknown and the loop should continue until a condition is met.\n",
        "\n",
        "Example:\n",
        "\n",
        "  Waiting for a Sensor to Detect a Condition\n",
        "Scenario: Imagine a program that monitors a temperature sensor and keeps checking until the temperature reaches a safe level."
      ],
      "metadata": {
        "id": "FPhEyGWXOIHI"
      }
    },
    {
      "cell_type": "code",
      "source": [
        "#Using while Loop:\n",
        "import random\n",
        "\n",
        "temperature = random.randint(50, 100)\n",
        "while temperature > 70:\n",
        "    print(f\"Current Temperature: {temperature}°C - Too high! Cooling down...\")\n",
        "    temperature -= random.randint(1, 5)\n",
        "\n",
        "print(f\"Temperature stabilized at {temperature}°C. System safe.\")"
      ],
      "metadata": {
        "colab": {
          "base_uri": "https://localhost:8080/"
        },
        "id": "nGLueAaVPI0w",
        "outputId": "05dc152e-e4ac-4388-c1fa-d8e109d40e27"
      },
      "execution_count": null,
      "outputs": [
        {
          "output_type": "stream",
          "name": "stdout",
          "text": [
            "Current Temperature: 94°C - Too high! Cooling down...\n",
            "Current Temperature: 89°C - Too high! Cooling down...\n",
            "Current Temperature: 87°C - Too high! Cooling down...\n",
            "Current Temperature: 86°C - Too high! Cooling down...\n",
            "Current Temperature: 84°C - Too high! Cooling down...\n",
            "Current Temperature: 83°C - Too high! Cooling down...\n",
            "Current Temperature: 79°C - Too high! Cooling down...\n",
            "Current Temperature: 78°C - Too high! Cooling down...\n",
            "Current Temperature: 76°C - Too high! Cooling down...\n",
            "Current Temperature: 75°C - Too high! Cooling down...\n",
            "Current Temperature: 73°C - Too high! Cooling down...\n",
            "Temperature stabilized at 70°C. System safe.\n"
          ]
        }
      ]
    },
    {
      "cell_type": "markdown",
      "source": [
        "**Why Not Use a for Loop?**\n",
        "\n",
        "A for loop is better when we have a fixed number of readings (for example checking the temperature 10 times). But here, we need to keep running until the condition is met, making while the better choice."
      ],
      "metadata": {
        "id": "Ui4x0ldgPZsQ"
      }
    },
    {
      "cell_type": "markdown",
      "source": [
        "# **# Practical Questions**"
      ],
      "metadata": {
        "id": "FqylPqpEPgmv"
      }
    },
    {
      "cell_type": "markdown",
      "source": [
        "**01- Write a Python program to print \"Hello, World!**"
      ],
      "metadata": {
        "id": "LmVJUGFjPyt_"
      }
    },
    {
      "cell_type": "code",
      "source": [
        "print(\"Hello, World!\")"
      ],
      "metadata": {
        "colab": {
          "base_uri": "https://localhost:8080/"
        },
        "id": "g3hd8JAsPwv5",
        "outputId": "7d3ff5e2-9c62-49e9-97fa-0323a417156b"
      },
      "execution_count": null,
      "outputs": [
        {
          "output_type": "stream",
          "name": "stdout",
          "text": [
            "Hello, World!\n"
          ]
        }
      ]
    },
    {
      "cell_type": "markdown",
      "source": [
        "**02- Write a Python program that displays your name and age?**"
      ],
      "metadata": {
        "id": "cuwzRSrFP-c_"
      }
    },
    {
      "cell_type": "code",
      "source": [
        "name = \"Alice\"\n",
        "age = 30\n",
        "\n",
        "print(f\"My name is {name} and I am {age} years old.\")"
      ],
      "metadata": {
        "colab": {
          "base_uri": "https://localhost:8080/"
        },
        "id": "TaMczdYmP9DA",
        "outputId": "bd7a2613-5625-423f-e07e-e57d06b26a21"
      },
      "execution_count": null,
      "outputs": [
        {
          "output_type": "stream",
          "name": "stdout",
          "text": [
            "My name is Alice and I am 30 years old.\n"
          ]
        }
      ]
    },
    {
      "cell_type": "markdown",
      "source": [
        "**03- Write code to print all the pre-defined keywords in Python using the keyword library?**"
      ],
      "metadata": {
        "id": "3S47-U6cQ-z_"
      }
    },
    {
      "cell_type": "code",
      "source": [
        "import keyword\n",
        "\n",
        "keywords_list = keyword.kwlist\n",
        "\n",
        "print(\"Python Keywords:\")\n",
        "for word in keywords_list:\n",
        "    print(word)"
      ],
      "metadata": {
        "colab": {
          "base_uri": "https://localhost:8080/"
        },
        "collapsed": true,
        "id": "e3BKSTWtRDF2",
        "outputId": "1c6fc436-c34b-443f-8895-a169ca61aa5a"
      },
      "execution_count": null,
      "outputs": [
        {
          "output_type": "stream",
          "name": "stdout",
          "text": [
            "Python Keywords:\n",
            "False\n",
            "None\n",
            "True\n",
            "and\n",
            "as\n",
            "assert\n",
            "async\n",
            "await\n",
            "break\n",
            "class\n",
            "continue\n",
            "def\n",
            "del\n",
            "elif\n",
            "else\n",
            "except\n",
            "finally\n",
            "for\n",
            "from\n",
            "global\n",
            "if\n",
            "import\n",
            "in\n",
            "is\n",
            "lambda\n",
            "nonlocal\n",
            "not\n",
            "or\n",
            "pass\n",
            "raise\n",
            "return\n",
            "try\n",
            "while\n",
            "with\n",
            "yield\n"
          ]
        }
      ]
    },
    {
      "cell_type": "markdown",
      "source": [
        "**04- Write a program that checks if a given word is a Python keyword?**"
      ],
      "metadata": {
        "id": "fX4rmi5jRNfu"
      }
    },
    {
      "cell_type": "code",
      "source": [
        "import keyword\n",
        "word = input(\"Enter a word: \")\n",
        "\n",
        "if keyword.iskeyword(word):\n",
        "    print(f\"'{word}' is a Python keyword.\")\n",
        "else:\n",
        "    print(f\"'{word}' is NOT a Python keyword.\")"
      ],
      "metadata": {
        "colab": {
          "base_uri": "https://localhost:8080/"
        },
        "id": "LDIO-wERRKYu",
        "outputId": "7af813cd-b772-4b6d-c7ac-7ee2d9bebc54"
      },
      "execution_count": null,
      "outputs": [
        {
          "output_type": "stream",
          "name": "stdout",
          "text": [
            "Enter a word: ANCHAL\n",
            "'ANCHAL' is NOT a Python keyword.\n"
          ]
        }
      ]
    },
    {
      "cell_type": "markdown",
      "source": [
        "**05- Create a list and tuple in Python, and demonstrate how attempting to change an element works differently\n",
        "for each.**"
      ],
      "metadata": {
        "id": "cOsqBObRRmHu"
      }
    },
    {
      "cell_type": "code",
      "source": [
        "my_list = [1, 2, 3]\n",
        "print(\"Original List:\", my_list)\n",
        "\n",
        "my_list[1] = 10\n",
        "print(\"Modified List:\", my_list)\n",
        "\n",
        "my_tuple = (1, 2, 3)\n",
        "print(\"\\nOriginal Tuple:\", my_tuple)\n",
        "my_tuple[1] = 10"
      ],
      "metadata": {
        "colab": {
          "base_uri": "https://localhost:8080/",
          "height": 245
        },
        "id": "zdLDNG-wRhQ9",
        "outputId": "68602035-9c0a-4dec-a08d-26b4896aaa2e"
      },
      "execution_count": null,
      "outputs": [
        {
          "output_type": "stream",
          "name": "stdout",
          "text": [
            "Original List: [1, 2, 3]\n",
            "Modified List: [1, 10, 3]\n",
            "\n",
            "Original Tuple: (1, 2, 3)\n"
          ]
        },
        {
          "output_type": "error",
          "ename": "TypeError",
          "evalue": "'tuple' object does not support item assignment",
          "traceback": [
            "\u001b[0;31m---------------------------------------------------------------------------\u001b[0m",
            "\u001b[0;31mTypeError\u001b[0m                                 Traceback (most recent call last)",
            "\u001b[0;32m<ipython-input-17-35f452620a59>\u001b[0m in \u001b[0;36m<cell line: 0>\u001b[0;34m()\u001b[0m\n\u001b[1;32m     11\u001b[0m \u001b[0;34m\u001b[0m\u001b[0m\n\u001b[1;32m     12\u001b[0m \u001b[0;31m# Trying to modify the tuple (This will cause an error)\u001b[0m\u001b[0;34m\u001b[0m\u001b[0;34m\u001b[0m\u001b[0m\n\u001b[0;32m---> 13\u001b[0;31m \u001b[0mmy_tuple\u001b[0m\u001b[0;34m[\u001b[0m\u001b[0;36m1\u001b[0m\u001b[0;34m]\u001b[0m \u001b[0;34m=\u001b[0m \u001b[0;36m10\u001b[0m\u001b[0;34m\u001b[0m\u001b[0;34m\u001b[0m\u001b[0m\n\u001b[0m",
            "\u001b[0;31mTypeError\u001b[0m: 'tuple' object does not support item assignment"
          ]
        }
      ]
    },
    {
      "cell_type": "markdown",
      "source": [
        "**06- Write a function to demonstrate the behavior of mutable and immutable arguments.**"
      ],
      "metadata": {
        "id": "oEDL9vKPSGj-"
      }
    },
    {
      "cell_type": "code",
      "source": [
        "def modify_list(lst):\n",
        "    lst.append(4)\n",
        "    print(\"Inside function:\", lst)\n",
        "\n",
        "def modify_number(num):\n",
        "    num += 10\n",
        "    print(\"Inside function:\", num)\n",
        "\n",
        "my_list = [1, 2, 3]\n",
        "print(\"Before function call:\", my_list)\n",
        "modify_list(my_list)\n",
        "print(\"After function call:\", my_list)\n",
        "\n",
        "print(\"\\n\")\n",
        "\n",
        "my_num = 5\n",
        "print(\"Before function call:\", my_num)\n",
        "modify_number(my_num)\n",
        "print(\"After function call:\", my_num)"
      ],
      "metadata": {
        "colab": {
          "base_uri": "https://localhost:8080/"
        },
        "id": "c-Z-pUFlR9fl",
        "outputId": "2032cd09-008d-43a4-9534-44af5a8961e7"
      },
      "execution_count": null,
      "outputs": [
        {
          "output_type": "stream",
          "name": "stdout",
          "text": [
            "Before function call: [1, 2, 3]\n",
            "Inside function: [1, 2, 3, 4]\n",
            "After function call: [1, 2, 3, 4]\n",
            "\n",
            "\n",
            "Before function call: 5\n",
            "Inside function: 15\n",
            "After function call: 5\n"
          ]
        }
      ]
    },
    {
      "cell_type": "markdown",
      "source": [
        "**07- Write a function to demonstrate the behavior of mutable and immutable arguments.**"
      ],
      "metadata": {
        "id": "iUTww9PrSpUf"
      }
    },
    {
      "cell_type": "code",
      "source": [
        "def change_list(lst):\n",
        "    lst.append(4)\n",
        "    print(\"Inside function:\", lst)\n",
        "\n",
        "def change_number(num):\n",
        "    num += 10\n",
        "    print(\"Inside function:\", num)\n",
        "\n",
        "my_list = [1, 2, 3]\n",
        "print(\"Before function:\", my_list)\n",
        "change_list(my_list)\n",
        "print(\"After function:\", my_list)\n",
        "\n",
        "print(\"\\n\")\n",
        "\n",
        "my_num = 5\n",
        "print(\"Before function:\", my_num)\n",
        "change_number(my_num)\n",
        "print(\"After function:\", my_num)"
      ],
      "metadata": {
        "colab": {
          "base_uri": "https://localhost:8080/"
        },
        "id": "oyYlHFQeSnR-",
        "outputId": "9c0c3839-b3c9-46e4-f732-bfc49a63bf60"
      },
      "execution_count": null,
      "outputs": [
        {
          "output_type": "stream",
          "name": "stdout",
          "text": [
            "Before function: [1, 2, 3]\n",
            "Inside function: [1, 2, 3, 4]\n",
            "After function: [1, 2, 3, 4]\n",
            "\n",
            "\n",
            "Before function: 5\n",
            "Inside function: 15\n",
            "After function: 5\n"
          ]
        }
      ]
    },
    {
      "cell_type": "markdown",
      "source": [
        "**08- Write a program to demonstrate the use of logical operators.**"
      ],
      "metadata": {
        "id": "pA-KzVdfS8KW"
      }
    },
    {
      "cell_type": "code",
      "source": [
        "# Using 'and' operator\n",
        "a = True\n",
        "b = False\n",
        "print(\"a and b:\", a and b)\n",
        "\n",
        "# Using 'or' operator\n",
        "print(\"a or b:\", a or b)\n",
        "\n",
        "# Using 'not' operator\n",
        "print(\"not a:\", not a)\n",
        "print(\"not b:\", not b)"
      ],
      "metadata": {
        "id": "ml0z-0uLS6fN"
      },
      "execution_count": null,
      "outputs": []
    },
    {
      "cell_type": "markdown",
      "source": [
        "**09- Write a Python program to convert user input from string to integer, float, and boolean types.**"
      ],
      "metadata": {
        "id": "EBZ9QAYBTKdl"
      }
    },
    {
      "cell_type": "code",
      "source": [
        "user_input = input(\"Enter a value: \")\n",
        "\n",
        "int_value = int(user_input)\n",
        "float_value = float(user_input)\n",
        "bool_value = bool(user_input)\n",
        "\n",
        "print(\"Integer:\", int_value)\n",
        "print(\"Float:\", float_value)\n",
        "print(\"Boolean:\", bool_value)"
      ],
      "metadata": {
        "colab": {
          "base_uri": "https://localhost:8080/"
        },
        "id": "WU-le9TJTc2t",
        "outputId": "c68e0136-344b-4f93-c0e4-69ded50f0395"
      },
      "execution_count": null,
      "outputs": [
        {
          "output_type": "stream",
          "name": "stdout",
          "text": [
            "Enter a value: 5\n",
            "Integer: 5\n",
            "Float: 5.0\n",
            "Boolean: True\n"
          ]
        }
      ]
    },
    {
      "cell_type": "markdown",
      "source": [
        "**10- Write code to demonstrate type casting with list elements.**"
      ],
      "metadata": {
        "id": "g5yoFcr-TgJN"
      }
    },
    {
      "cell_type": "code",
      "source": [
        "str_list = [\"10\", \"20\", \"30\", \"40\"]\n",
        "\n",
        "int_list = [int(i) for i in str_list]\n",
        "\n",
        "float_list = [float(i) for i in str_list]\n",
        "\n",
        "bool_list = [bool(i) for i in str_list]\n",
        "\n",
        "\n",
        "print(\"Original List (Strings):\", str_list)\n",
        "print(\"Integer List:\", int_list)\n",
        "print(\"Float List:\", float_list)\n",
        "print(\"Boolean List:\", bool_list)"
      ],
      "metadata": {
        "colab": {
          "base_uri": "https://localhost:8080/"
        },
        "id": "qmIibAjITdtV",
        "outputId": "ffd5d36f-4f17-44c5-ab15-05c449894984"
      },
      "execution_count": null,
      "outputs": [
        {
          "output_type": "stream",
          "name": "stdout",
          "text": [
            "Original List (Strings): ['10', '20', '30', '40']\n",
            "Integer List: [10, 20, 30, 40]\n",
            "Float List: [10.0, 20.0, 30.0, 40.0]\n",
            "Boolean List: [True, True, True, True]\n"
          ]
        }
      ]
    },
    {
      "cell_type": "markdown",
      "source": [
        "**11- Write a program that checks if a number is positive, negative, or zero.**"
      ],
      "metadata": {
        "id": "eVewP75ATuzf"
      }
    },
    {
      "cell_type": "code",
      "source": [
        "num = float(input(\"Enter a number: \"))\n",
        "\n",
        "if num > 0:\n",
        "    print(\"The number is positive.\")\n",
        "elif num < 0:\n",
        "    print(\"The number is negative.\")\n",
        "else:\n",
        "    print(\"The number is zero.\")"
      ],
      "metadata": {
        "colab": {
          "base_uri": "https://localhost:8080/"
        },
        "id": "sTxNvqTcTtpk",
        "outputId": "624b424d-bf4f-489b-a658-8c4d6c6d4024"
      },
      "execution_count": null,
      "outputs": [
        {
          "output_type": "stream",
          "name": "stdout",
          "text": [
            "Enter a number: 58\n",
            "The number is positive.\n"
          ]
        }
      ]
    },
    {
      "cell_type": "markdown",
      "source": [
        "**12- Write a for loop to print numbers from 1 to 100.**"
      ],
      "metadata": {
        "id": "nS5ZIF6jUBgF"
      }
    },
    {
      "cell_type": "code",
      "source": [
        "for num in range(1, 101):\n",
        "    print(num)"
      ],
      "metadata": {
        "colab": {
          "base_uri": "https://localhost:8080/"
        },
        "collapsed": true,
        "id": "bjd0tSooT_hE",
        "outputId": "da0be33a-ac9a-426b-e3cf-dfdf8ce3e3c7"
      },
      "execution_count": null,
      "outputs": [
        {
          "output_type": "stream",
          "name": "stdout",
          "text": [
            "1\n",
            "2\n",
            "3\n",
            "4\n",
            "5\n",
            "6\n",
            "7\n",
            "8\n",
            "9\n",
            "10\n",
            "11\n",
            "12\n",
            "13\n",
            "14\n",
            "15\n",
            "16\n",
            "17\n",
            "18\n",
            "19\n",
            "20\n",
            "21\n",
            "22\n",
            "23\n",
            "24\n",
            "25\n",
            "26\n",
            "27\n",
            "28\n",
            "29\n",
            "30\n",
            "31\n",
            "32\n",
            "33\n",
            "34\n",
            "35\n",
            "36\n",
            "37\n",
            "38\n",
            "39\n",
            "40\n",
            "41\n",
            "42\n",
            "43\n",
            "44\n",
            "45\n",
            "46\n",
            "47\n",
            "48\n",
            "49\n",
            "50\n",
            "51\n",
            "52\n",
            "53\n",
            "54\n",
            "55\n",
            "56\n",
            "57\n",
            "58\n",
            "59\n",
            "60\n",
            "61\n",
            "62\n",
            "63\n",
            "64\n",
            "65\n",
            "66\n",
            "67\n",
            "68\n",
            "69\n",
            "70\n",
            "71\n",
            "72\n",
            "73\n",
            "74\n",
            "75\n",
            "76\n",
            "77\n",
            "78\n",
            "79\n",
            "80\n",
            "81\n",
            "82\n",
            "83\n",
            "84\n",
            "85\n",
            "86\n",
            "87\n",
            "88\n",
            "89\n",
            "90\n",
            "91\n",
            "92\n",
            "93\n",
            "94\n",
            "95\n",
            "96\n",
            "97\n",
            "98\n",
            "99\n",
            "100\n"
          ]
        }
      ]
    },
    {
      "cell_type": "markdown",
      "source": [
        "**13- Write a Python program to find the sum of all even numbers between 1 and 500.**"
      ],
      "metadata": {
        "id": "uLE2Th2CUPut"
      }
    },
    {
      "cell_type": "code",
      "source": [
        "sum_even = 0\n",
        "\n",
        "for num in range(1, 501):\n",
        "    if num % 2 == 0:\n",
        "        sum_even += num\n",
        "\n",
        "print(\"Sum of all even numbers from 1 to 500:\", sum_even)"
      ],
      "metadata": {
        "colab": {
          "base_uri": "https://localhost:8080/"
        },
        "id": "2iLPMK0tUMdc",
        "outputId": "15027141-bf9f-406d-86fd-43593b78b8fe"
      },
      "execution_count": null,
      "outputs": [
        {
          "output_type": "stream",
          "name": "stdout",
          "text": [
            "Sum of all even numbers from 1 to 500: 62750\n"
          ]
        }
      ]
    },
    {
      "cell_type": "markdown",
      "source": [
        "**14- Write a program to reverse a string using a while loop.**"
      ],
      "metadata": {
        "id": "NvjbJ87zUsp1"
      }
    },
    {
      "cell_type": "code",
      "source": [
        "text = input(\"Enter a string: \")\n",
        "reversed_text = \"\"\n",
        "i = len(text) - 1\n",
        "\n",
        "while i >= 0:\n",
        "    reversed_text += text[i]\n",
        "    i -= 1\n",
        "\n",
        "print(\"Reversed String:\", reversed_text)"
      ],
      "metadata": {
        "colab": {
          "base_uri": "https://localhost:8080/"
        },
        "id": "cf1hkFcCUrWz",
        "outputId": "30aa7ad2-69ca-4169-de5b-e0836968dfa2"
      },
      "execution_count": null,
      "outputs": [
        {
          "output_type": "stream",
          "name": "stdout",
          "text": [
            "Enter a string: anchal \n",
            "Reversed String:  lahcna\n"
          ]
        }
      ]
    },
    {
      "cell_type": "markdown",
      "source": [
        "**15- Write a Python program to calculate the factorial of a number provided by the user using a while loop.**"
      ],
      "metadata": {
        "id": "N3Mla3jXU_9t"
      }
    },
    {
      "cell_type": "code",
      "source": [
        "num = int(input(\"Enter a number: \"))\n",
        "\n",
        "factorial = 1\n",
        "i = num\n",
        "\n",
        "while i > 0:\n",
        "    factorial *= i\n",
        "    i -= 1\n",
        "\n",
        "print(\"Factorial of\", num, \"is:\", factorial)"
      ],
      "metadata": {
        "colab": {
          "base_uri": "https://localhost:8080/"
        },
        "id": "lwTEbSC2U8-b",
        "outputId": "c4c4d2ed-0a24-4a59-bffd-0cbc06ad87d5"
      },
      "execution_count": null,
      "outputs": [
        {
          "output_type": "stream",
          "name": "stdout",
          "text": [
            "Enter a number: 21\n",
            "Factorial of 21 is: 51090942171709440000\n"
          ]
        }
      ]
    }
  ]
}